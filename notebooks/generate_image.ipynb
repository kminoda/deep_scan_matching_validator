{
 "cells": [
  {
   "cell_type": "code",
   "execution_count": 55,
   "id": "534a31b4-57d2-4263-a55a-69712387feb0",
   "metadata": {},
   "outputs": [],
   "source": [
    "from pathlib import Path\n",
    "from tqdm import tqdm\n",
    "from typing import List\n",
    "import numpy as np\n",
    "import matplotlib.pyplot as plt\n",
    "import open3d as o3d\n",
    "import sys\n",
    "import bisect\n",
    "import dataclasses"
   ]
  },
  {
   "cell_type": "code",
   "execution_count": 60,
   "id": "48e36964-edd9-4261-907d-1e8e8ccbc2ef",
   "metadata": {},
   "outputs": [],
   "source": [
    "@dataclasses.dataclass\n",
    "class PCDMap:\n",
    "    x_list: List[float]\n",
    "    y_list: List[float]\n",
    "    mp: List[List[bool]]"
   ]
  },
  {
   "cell_type": "code",
   "execution_count": 76,
   "id": "2c649bdf-077e-4d6b-a229-c2982141fddf",
   "metadata": {},
   "outputs": [],
   "source": [
    "def generate_pcd_map(points_map, dx=0.4):\n",
    "    min_x = np.min(points_map[:, 0])\n",
    "    min_y = np.min(points_map[:, 1])\n",
    "    max_x = np.max(points_map[:, 0])\n",
    "    max_y = np.max(points_map[:, 1])\n",
    "    x_list = np.arange(min_x - min_x % dx, max_x + dx * 2, dx)\n",
    "    y_list = np.arange(min_y - min_y % dx, max_y + dx * 2, dx)\n",
    "    boolean_map = [[False for _ in range(len(y_list))] for _ in range(len(x_list))]\n",
    "\n",
    "    for point in tqdm(points_map):\n",
    "        x_idx = bisect.bisect_left(x_list, point[0])\n",
    "        y_idx = bisect.bisect_left(y_list, point[1])\n",
    "        boolean_map[x_idx][y_idx] = True\n",
    "\n",
    "    pcd_map = PCDMap(\n",
    "        list(x_list), list(y_list), boolean_map\n",
    "    )\n",
    "    return pcd_map\n"
   ]
  },
  {
   "cell_type": "code",
   "execution_count": 77,
   "id": "c7355323-c435-4cc0-ad34-fc76cdac4d1b",
   "metadata": {},
   "outputs": [],
   "source": [
    "pcd = o3d.io.read_point_cloud(\"/home/minoda/data/maps/odaiba/pointcloud_map/pointcloud_map.pcd\")\n",
    "points_map = np.asarray(pcd.points)"
   ]
  },
  {
   "cell_type": "code",
   "execution_count": 78,
   "id": "e6ec4f9c-da29-432f-8d18-5c24d43eefa1",
   "metadata": {},
   "outputs": [
    {
     "name": "stderr",
     "output_type": "stream",
     "text": [
      "100%|██████████████████████████████████████████████████████| 9714735/9714735 [00:11<00:00, 822809.84it/s]\n"
     ]
    }
   ],
   "source": [
    "pcd_map = generate_pcd_map(points_map)"
   ]
  },
  {
   "cell_type": "code",
   "execution_count": 87,
   "id": "6a2d8bfb-32cd-4b65-88d7-6153a322694b",
   "metadata": {},
   "outputs": [],
   "source": [
    "from torch.nn import BCELoss\n",
    "import torch\n",
    "loss = BCELoss()"
   ]
  },
  {
   "cell_type": "code",
   "execution_count": 90,
   "id": "36f3d0a5-3bc0-4774-99be-4cd5c5079870",
   "metadata": {},
   "outputs": [],
   "source": [
    "la = torch.Tensor([False])\n",
    "lb = torch.Tensor([0.3])"
   ]
  },
  {
   "cell_type": "code",
   "execution_count": 91,
   "id": "18ac7f71-09cf-4715-9729-f327dbb77646",
   "metadata": {},
   "outputs": [
    {
     "data": {
      "text/plain": [
       "tensor(30.0000)"
      ]
     },
     "execution_count": 91,
     "metadata": {},
     "output_type": "execute_result"
    }
   ],
   "source": [
    "loss(la, lb)"
   ]
  },
  {
   "cell_type": "code",
   "execution_count": null,
   "id": "ac2057f7-7b62-4622-8498-a8bc3677bdda",
   "metadata": {},
   "outputs": [],
   "source": []
  }
 ],
 "metadata": {
  "kernelspec": {
   "display_name": "Python 3 (ipykernel)",
   "language": "python",
   "name": "python3"
  },
  "language_info": {
   "codemirror_mode": {
    "name": "ipython",
    "version": 3
   },
   "file_extension": ".py",
   "mimetype": "text/x-python",
   "name": "python",
   "nbconvert_exporter": "python",
   "pygments_lexer": "ipython3",
   "version": "3.8.10"
  }
 },
 "nbformat": 4,
 "nbformat_minor": 5
}
